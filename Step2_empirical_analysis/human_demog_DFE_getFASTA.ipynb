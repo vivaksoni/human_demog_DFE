{
 "cells": [
  {
   "cell_type": "code",
   "execution_count": 1,
   "id": "81621704-07ad-47f5-97d1-6b73e2e67e88",
   "metadata": {
    "tags": []
   },
   "outputs": [],
   "source": [
    "import requests, sys\n",
    "import pandas as pd"
   ]
  },
  {
   "cell_type": "code",
   "execution_count": 11,
   "id": "1fb1c72c-bc7b-4476-ac52-3eecfb0e49e5",
   "metadata": {
    "tags": []
   },
   "outputs": [],
   "source": [
    "df = pd.read_csv(r\"/home/vivak/human_demog_DFE/gff/GRCh37_functionalMasked.bed\", sep='\\t', names=['chrom','start','end','length'])\n",
    "df = df[df.length>=500]\n",
    "chroms = list(df.chrom)\n",
    "starts = list(df.start)\n",
    "ends = list(df.end)\n",
    "#df.columns = ['#chr', 'start', 'end', 'length']\n",
    "df.to_csv(r\"/home/vivak/human_demog_DFE/gff/GRCh37_functionalMasked_500bp.bed\", sep='\\t', header=False, index=False)\n",
    "#df = df.iloc[1305:]"
   ]
  },
  {
   "cell_type": "code",
   "execution_count": 4,
   "id": "3a9ad696-d7b2-46c1-a1e9-be2512a42b85",
   "metadata": {
    "tags": []
   },
   "outputs": [],
   "source": [
    "fails = []\n",
    "for i,j in enumerate(chroms):\n",
    "    try:\n",
    "        server = \"https://rest.ensembl.org\"\n",
    "        ext = \"/sequence/region/human/\" + str(j) + \":\" + str(starts[i]) + \"..\" + str(ends[i]) + \":1?coord_system_version=GRCh37\"\n",
    "\n",
    "        r = requests.get(server+ext, headers={ \"Content-Type\" : \"text/plain\"})\n",
    "\n",
    "        if not r.ok:\n",
    "          r.raise_for_status()\n",
    "          sys.exit()\n",
    "\n",
    "\n",
    "        fasta = r.text\n",
    "        with open(r\"/home/vivak/human_demog_DFE/gff/fasta/\"+ str(j) + \"_\" + str(starts[i]) + \"_\" + str(ends[i]) +\".fasta\", \"w\") as f:\n",
    "            f.write(\">\" + str(j) + \"\\n\")\n",
    "            f.write(fasta)\n",
    "    except Exception:\n",
    "        fails.append([j, starts[i], ends[i]])"
   ]
  },
  {
   "cell_type": "code",
   "execution_count": 3,
   "id": "af588761-896f-47fc-b7b6-618c0b3cab2b",
   "metadata": {},
   "outputs": [],
   "source": [
    "df = pd.read_csv(r\"/home/vivak/human_demog_DFE/GRCh37_functionalMasked_15kb.bed\", sep='\\t', header=0)\n",
    "chroms = list(df.chrom)\n",
    "starts = list(df.start)\n",
    "ends = list(df.end)"
   ]
  },
  {
   "cell_type": "code",
   "execution_count": 67,
   "id": "9581232a-f1be-4845-a0d6-16ddb3bac17a",
   "metadata": {
    "tags": []
   },
   "outputs": [
    {
     "data": {
      "text/html": [
       "<div>\n",
       "<style scoped>\n",
       "    .dataframe tbody tr th:only-of-type {\n",
       "        vertical-align: middle;\n",
       "    }\n",
       "\n",
       "    .dataframe tbody tr th {\n",
       "        vertical-align: top;\n",
       "    }\n",
       "\n",
       "    .dataframe thead th {\n",
       "        text-align: right;\n",
       "    }\n",
       "</style>\n",
       "<table border=\"1\" class=\"dataframe\">\n",
       "  <thead>\n",
       "    <tr style=\"text-align: right;\">\n",
       "      <th></th>\n",
       "      <th>gene</th>\n",
       "      <th>pTro_gene</th>\n",
       "      <th>region</th>\n",
       "      <th>chrom</th>\n",
       "      <th>start</th>\n",
       "      <th>end</th>\n",
       "      <th>gene_len</th>\n",
       "      <th>exon_start</th>\n",
       "      <th>exon_end</th>\n",
       "      <th>exon_start_in_gene</th>\n",
       "    </tr>\n",
       "  </thead>\n",
       "  <tbody>\n",
       "    <tr>\n",
       "      <th>0</th>\n",
       "      <td>ENSG00000171621</td>\n",
       "      <td>ENSPTRG00000000114</td>\n",
       "      <td>1</td>\n",
       "      <td>chr1</td>\n",
       "      <td>9352938</td>\n",
       "      <td>9429591</td>\n",
       "      <td>76653</td>\n",
       "      <td>9427507</td>\n",
       "      <td>9429591</td>\n",
       "      <td>74569</td>\n",
       "    </tr>\n",
       "    <tr>\n",
       "      <th>1</th>\n",
       "      <td>ENSG00000171621</td>\n",
       "      <td>ENSPTRG00000000114</td>\n",
       "      <td>1</td>\n",
       "      <td>chr1</td>\n",
       "      <td>9354586</td>\n",
       "      <td>9416556</td>\n",
       "      <td>61970</td>\n",
       "      <td>9427507</td>\n",
       "      <td>9429591</td>\n",
       "      <td>72921</td>\n",
       "    </tr>\n",
       "    <tr>\n",
       "      <th>2</th>\n",
       "      <td>ENSG00000171621</td>\n",
       "      <td>ENSPTRG00000000114</td>\n",
       "      <td>1</td>\n",
       "      <td>chr1</td>\n",
       "      <td>9411489</td>\n",
       "      <td>9427922</td>\n",
       "      <td>16433</td>\n",
       "      <td>9427507</td>\n",
       "      <td>9429591</td>\n",
       "      <td>16018</td>\n",
       "    </tr>\n",
       "    <tr>\n",
       "      <th>3</th>\n",
       "      <td>ENSG00000171621</td>\n",
       "      <td>ENSPTRG00000000114</td>\n",
       "      <td>1</td>\n",
       "      <td>chr1</td>\n",
       "      <td>9415765</td>\n",
       "      <td>9427634</td>\n",
       "      <td>11869</td>\n",
       "      <td>9427507</td>\n",
       "      <td>9429591</td>\n",
       "      <td>11742</td>\n",
       "    </tr>\n",
       "    <tr>\n",
       "      <th>4</th>\n",
       "      <td>ENSG00000178585</td>\n",
       "      <td>ENSPTRG00000046205</td>\n",
       "      <td>2</td>\n",
       "      <td>chr1</td>\n",
       "      <td>9908333</td>\n",
       "      <td>9970321</td>\n",
       "      <td>61988</td>\n",
       "      <td>9908334</td>\n",
       "      <td>9910834</td>\n",
       "      <td>1</td>\n",
       "    </tr>\n",
       "    <tr>\n",
       "      <th>5</th>\n",
       "      <td>ENSG00000178585</td>\n",
       "      <td>ENSPTRG00000046205</td>\n",
       "      <td>2</td>\n",
       "      <td>chr1</td>\n",
       "      <td>9910166</td>\n",
       "      <td>9970394</td>\n",
       "      <td>60228</td>\n",
       "      <td>9908334</td>\n",
       "      <td>9910834</td>\n",
       "      <td>-1832</td>\n",
       "    </tr>\n",
       "    <tr>\n",
       "      <th>6</th>\n",
       "      <td>ENSG00000178585</td>\n",
       "      <td>ENSPTRG00000046205</td>\n",
       "      <td>2</td>\n",
       "      <td>chr1</td>\n",
       "      <td>9909596</td>\n",
       "      <td>9932150</td>\n",
       "      <td>22554</td>\n",
       "      <td>9908334</td>\n",
       "      <td>9910834</td>\n",
       "      <td>-1262</td>\n",
       "    </tr>\n",
       "    <tr>\n",
       "      <th>7</th>\n",
       "      <td>ENSG00000178585</td>\n",
       "      <td>ENSPTRG00000046205</td>\n",
       "      <td>2</td>\n",
       "      <td>chr1</td>\n",
       "      <td>9910507</td>\n",
       "      <td>9953295</td>\n",
       "      <td>42788</td>\n",
       "      <td>9908334</td>\n",
       "      <td>9910834</td>\n",
       "      <td>-2173</td>\n",
       "    </tr>\n",
       "    <tr>\n",
       "      <th>8</th>\n",
       "      <td>ENSG00000178585</td>\n",
       "      <td>ENSPTRG00000046205</td>\n",
       "      <td>2</td>\n",
       "      <td>chr1</td>\n",
       "      <td>9910716</td>\n",
       "      <td>9938234</td>\n",
       "      <td>27518</td>\n",
       "      <td>9908334</td>\n",
       "      <td>9910834</td>\n",
       "      <td>-2382</td>\n",
       "    </tr>\n",
       "    <tr>\n",
       "      <th>9</th>\n",
       "      <td>ENSG00000162458</td>\n",
       "      <td>ENSPTRG00000000208</td>\n",
       "      <td>3</td>\n",
       "      <td>chr1</td>\n",
       "      <td>16083101</td>\n",
       "      <td>16091568</td>\n",
       "      <td>8467</td>\n",
       "      <td>16111043</td>\n",
       "      <td>16113084</td>\n",
       "      <td>27942</td>\n",
       "    </tr>\n",
       "  </tbody>\n",
       "</table>\n",
       "</div>"
      ],
      "text/plain": [
       "              gene           pTro_gene  region chrom     start       end  \\\n",
       "0  ENSG00000171621  ENSPTRG00000000114       1  chr1   9352938   9429591   \n",
       "1  ENSG00000171621  ENSPTRG00000000114       1  chr1   9354586   9416556   \n",
       "2  ENSG00000171621  ENSPTRG00000000114       1  chr1   9411489   9427922   \n",
       "3  ENSG00000171621  ENSPTRG00000000114       1  chr1   9415765   9427634   \n",
       "4  ENSG00000178585  ENSPTRG00000046205       2  chr1   9908333   9970321   \n",
       "5  ENSG00000178585  ENSPTRG00000046205       2  chr1   9910166   9970394   \n",
       "6  ENSG00000178585  ENSPTRG00000046205       2  chr1   9909596   9932150   \n",
       "7  ENSG00000178585  ENSPTRG00000046205       2  chr1   9910507   9953295   \n",
       "8  ENSG00000178585  ENSPTRG00000046205       2  chr1   9910716   9938234   \n",
       "9  ENSG00000162458  ENSPTRG00000000208       3  chr1  16083101  16091568   \n",
       "\n",
       "   gene_len  exon_start  exon_end  exon_start_in_gene  \n",
       "0     76653     9427507   9429591               74569  \n",
       "1     61970     9427507   9429591               72921  \n",
       "2     16433     9427507   9429591               16018  \n",
       "3     11869     9427507   9429591               11742  \n",
       "4     61988     9908334   9910834                   1  \n",
       "5     60228     9908334   9910834               -1832  \n",
       "6     22554     9908334   9910834               -1262  \n",
       "7     42788     9908334   9910834               -2173  \n",
       "8     27518     9908334   9910834               -2382  \n",
       "9      8467    16111043  16113084               27942  "
      ]
     },
     "execution_count": 67,
     "metadata": {},
     "output_type": "execute_result"
    }
   ],
   "source": [
    "df = pd.read_csv(r\"/home/vivak/human_demog_DFE/DFE_inference/GRCh37_genes.txt\", sep='\\t', header=0)\n",
    "#df = df.drop_duplicates(\"name2\")\n",
    "df = df[['name2', 'chrom', 'txStart', 'txEnd']]\n",
    "df.columns = ['gene', 'chrom', 'start', 'end']\n",
    "df['gene_len'] = df.end - df.start\n",
    "\n",
    "df2 = pd.read_csv(r\"/home/vivak/human_demog_DFE/DFE_inference/human_chimp_orthologs.txt\", sep='\\t', header=0)\n",
    "df2.columns = ['gene', 'pTro_gene']\n",
    "lst = [x+1 for x in df2.index]\n",
    "df2['region'] = lst\n",
    "df = pd.merge(df2, df, on='gene', how='inner')\n",
    "\n",
    "df3 = pd.read_csv(r\"/home/vivak/human_demog_DFE/DFE_inference/GRCh37_exons_r_m.bed\", sep='\\t', header=0)\n",
    "df3 = df3[['region','start', 'end']]\n",
    "df3.columns = ['region', 'exon_start', 'exon_end']\n",
    "df = pd.merge(df,df3,on='region',how='inner')\n",
    "\n",
    "df['exon_start_in_gene'] = df.exon_start - df.start\n",
    "df.head(10)"
   ]
  },
  {
   "cell_type": "code",
   "execution_count": 83,
   "id": "5d821a24-5c55-4026-a72d-70f73dce17f9",
   "metadata": {
    "tags": []
   },
   "outputs": [],
   "source": [
    "from Bio import SeqIO\n",
    "ids = []  \n",
    "seq = []\n",
    "s2 = []\n",
    "for record in SeqIO.parse(r\"/home/vivak/human_demog_DFE/DFE_inference/fasta/region\"+ str(1) +\"_exons.fasta\", \"fasta\"):\n",
    "    ids.append(record.id)\n",
    "    seq.append(str(record.seq))\n",
    "    s2.append(record.seq)\n",
    "    \n",
    "for record in SeqIO.parse(r\"/home/vivak/human_demog_DFE/DFE_inference/fasta/ancestral/region\"+ str(1) +\"_exons.fasta\", \"fasta\"):\n",
    "    ids.append(record.id)\n",
    "    seq.append(str(record.seq))\n",
    "    s2.append(record.seq)"
   ]
  },
  {
   "cell_type": "code",
   "execution_count": 84,
   "id": "48c64b86-e1fe-4441-a347-074a443cd0a7",
   "metadata": {
    "tags": []
   },
   "outputs": [
    {
     "ename": "TranslationError",
     "evalue": "Codon 'TT-' is invalid",
     "output_type": "error",
     "traceback": [
      "\u001b[0;31m---------------------------------------------------------------------------\u001b[0m",
      "\u001b[0;31mTranslationError\u001b[0m                          Traceback (most recent call last)",
      "Cell \u001b[0;32mIn[84], line 2\u001b[0m\n\u001b[1;32m      1\u001b[0m x \u001b[38;5;241m=\u001b[39m \u001b[38;5;28mstr\u001b[39m(s2[\u001b[38;5;241m0\u001b[39m]\u001b[38;5;241m.\u001b[39mtranslate())\n\u001b[0;32m----> 2\u001b[0m y \u001b[38;5;241m=\u001b[39m \u001b[38;5;28mstr\u001b[39m(s2[\u001b[38;5;241m1\u001b[39m]\u001b[38;5;241m.\u001b[39mtranslate())\n\u001b[1;32m      3\u001b[0m count \u001b[38;5;241m=\u001b[39m \u001b[38;5;28msum\u001b[39m(\u001b[38;5;241m1\u001b[39m \u001b[38;5;28;01mfor\u001b[39;00m a, b \u001b[38;5;129;01min\u001b[39;00m \u001b[38;5;28mzip\u001b[39m(x, y) \u001b[38;5;28;01mif\u001b[39;00m a \u001b[38;5;241m!=\u001b[39m b)\n\u001b[1;32m      4\u001b[0m count\n",
      "File \u001b[0;32m~/mambaforge-pypy3/envs/myenv/lib/python3.11/site-packages/Bio/Seq.py:1022\u001b[0m, in \u001b[0;36mSeq.translate\u001b[0;34m(self, table, stop_symbol, to_stop, cds, gap)\u001b[0m\n\u001b[1;32m   1016\u001b[0m \u001b[38;5;28;01melse\u001b[39;00m:\n\u001b[1;32m   1017\u001b[0m     \u001b[38;5;66;03m# Assume its a table ID\u001b[39;00m\n\u001b[1;32m   1018\u001b[0m     \u001b[38;5;66;03m# The same table can be used for RNA or DNA\u001b[39;00m\n\u001b[1;32m   1019\u001b[0m     codon_table \u001b[38;5;241m=\u001b[39m CodonTable\u001b[38;5;241m.\u001b[39mambiguous_generic_by_id[table_id]\n\u001b[1;32m   1021\u001b[0m \u001b[38;5;28;01mreturn\u001b[39;00m Seq(\n\u001b[0;32m-> 1022\u001b[0m     _translate_str(\u001b[38;5;28mstr\u001b[39m(\u001b[38;5;28mself\u001b[39m), codon_table, stop_symbol, to_stop, cds, gap\u001b[38;5;241m=\u001b[39mgap)\n\u001b[1;32m   1023\u001b[0m )\n",
      "File \u001b[0;32m~/mambaforge-pypy3/envs/myenv/lib/python3.11/site-packages/Bio/Seq.py:2366\u001b[0m, in \u001b[0;36m_translate_str\u001b[0;34m(sequence, table, stop_symbol, to_stop, cds, pos_stop, gap)\u001b[0m\n\u001b[1;32m   2364\u001b[0m             amino_acids\u001b[38;5;241m.\u001b[39mappend(gap)\n\u001b[1;32m   2365\u001b[0m         \u001b[38;5;28;01melse\u001b[39;00m:\n\u001b[0;32m-> 2366\u001b[0m             \u001b[38;5;28;01mraise\u001b[39;00m CodonTable\u001b[38;5;241m.\u001b[39mTranslationError(\n\u001b[1;32m   2367\u001b[0m                 \u001b[38;5;124mf\u001b[39m\u001b[38;5;124m\"\u001b[39m\u001b[38;5;124mCodon \u001b[39m\u001b[38;5;124m'\u001b[39m\u001b[38;5;132;01m{\u001b[39;00mcodon\u001b[38;5;132;01m}\u001b[39;00m\u001b[38;5;124m'\u001b[39m\u001b[38;5;124m is invalid\u001b[39m\u001b[38;5;124m\"\u001b[39m\n\u001b[1;32m   2368\u001b[0m             ) \u001b[38;5;28;01mfrom\u001b[39;00m \u001b[38;5;28;01mNone\u001b[39;00m\n\u001b[1;32m   2369\u001b[0m \u001b[38;5;28;01mreturn\u001b[39;00m \u001b[38;5;124m\"\u001b[39m\u001b[38;5;124m\"\u001b[39m\u001b[38;5;241m.\u001b[39mjoin(amino_acids)\n",
      "\u001b[0;31mTranslationError\u001b[0m: Codon 'TT-' is invalid"
     ]
    }
   ],
   "source": [
    "x = str(s2[0].translate())\n",
    "y = str(s2[1].translate())\n",
    "count = sum(1 for a, b in zip(x, y) if a != b)\n",
    "count"
   ]
  },
  {
   "cell_type": "code",
   "execution_count": 89,
   "id": "193c290e-00a5-49d1-9571-d8765b139b6f",
   "metadata": {
    "tags": []
   },
   "outputs": [
    {
     "data": {
      "text/plain": [
       "'CCGAGCCgCTGCCGCTCATGGATTTGTGCCGTCGCTCGGTGCGCCTGGCCCTGGGGAAGGAGCGCCTGGGGGAGATCCACACGCTGCCGCTGCCGGCTTCCCTCAAGGCCTACCTCCTCTACCAGTGACGTTcGCCATCATACcGCCAGCGCGACAGCCACCTGGTGCCAACTCACTGAGCCGCCTGCCGCTGGGGCCGCCGCACCCTGCACCTTGGACCGGCATCCATAGCCATGGACAGAGGTCCCTGGtCTTCCCTCATCCTCCGTGGCTGCCTCCATGGGACAAGGACCgATTCCAACACAGGCTCCTCTTTCCCCCTTCCCGACATCAGCAGAAGGCAGCATCCCTGCATGCCGTCCATATACAACCCCTCTTTGAAAAAAGACACAGAGAATAAACTCCTACGAAAGCCCTACATTGAGCTCCAATCTGCTCGGGGTGGGACGGGTGCTTCCCACATCTCCGGGAGAAGGCTGCAGCCACCTGGGGGTCCCAGGGTGGTGGGGGTGGCAGGTGGTACCACAGCTCTGAGAGCAGATACCAGGGGTACTAAGAGGTGCTTAGACAAGGGCTGGTGCCCGGCCCAGGGTGCCCAGTGGGGCCATGCCATGGCAGATAAAGCTCAGGACGTCAAAAACTCACCATGGACACCAAGGCAGAAACCAAGAACTGTCTGCAGGCAAATAAGCACCCAGCACCCATCCtGGCTGCCGGTGCCCCGTACCCTATATTTATTCTTTTAACAATAACAAAAGCCATTTATTTATTCCATCTAGAAAGGAAACCCTGTTTCAGTCCCCTCTCTCTGGCTGTTCTGTTACTTTCCTTCCACCTGTGCCCTCCCTGGGATATGTATGCCTCGCCCGCCCTCCCTGGGCACATGTGCACACGTGCCCAGGCACAAGTATGTCTTTGGGTCCCTTGCCCTGCAGTTTCCAGGGGGCTCTGCTCCAAGTTCCCTAGCGGGCCCCTCAGGGAGAAATAGCCTCACGTGCAATCTGGGTGTCTTCGGGGGCCCGTCTGGAAGGGCTGCAGCAATTCCCCTGTGTCTCCAGGTAACCAGCTAACTCTTGGGCTCAGGCACCCTTGCACaGGGTTGCATTTCTTTAGTCTTCTGTGGGTCTTTTGGTGTGGGTTTGATTTTGcTTTTGCTTtTCTAGCTGAGATTTCCCAAGTGCATCCTCAGAAGCTCTGGGTGTGCCAGAGGACCcCCAGAACTAAGAAGGGAGGGCGAGTGGGTCTCCATTCCCTGAGAAGCCAGGGGCAGGGTGGGATGGGGAAGACCAGGAGCAGAGTCGAGCCTCACAGAAGCCAGCGCGGGTCTCTGCTCAGCACCCCAGCCGGGGCTCCGGACCCAGGGTAACAGCCCCAGTTCATCCCAACCCCTCTCAGAGCCTCAAGAGGGGTAGCTCGGCTGCCGGAAGAGAGGGGTGCCCTATCCCTGGCAACCCCTCCACGTAGCATACCCCAGCACcTGCCACCGCCTTTGCCATTTCTTTGAGCTTGAAGTTAACTCTCTTAGAGTCTAACTTTGGTTCATTTCTGCACAGGTACAATAGATGACTTTATTTGTTTAAAATGTTTAATATATATACATACATATATATATATTTGTCTGTAAGAATTATGTTTTAAACAGCTGCTGTAGAGTACCTTTTTTTAAGTAAATCTTACAGTGGAGTATATTTTTTAAAGCACAAAATTGGTGCCAAGACTGGgTGAGAAATGTACATTACCCCCTTATTATTTTGAcGGTTTTT-TTTTCGGGGCAGGGGACCTTACCTGTAAGACTTTTAAAGATTTTCCTCCCTCCTGTTTCAGGTGGGTCACATTCTGATGAATGTTTCCCTTGTACAGATCCCAGCTTATGGCCTTGACCCAGCCGTCCTCACAGATGCCGGGTGACCCTCTAGCTCTCTCTGCATCTCCCACCCCCCGACGCCCTGGGACCCTCGACCCCACCCTTCTTTCCTACCAGCCCAGAGCCTTGTGGCTTGTACAGTTTTGAAACTCCCGTTCTATTTTATGATGGTTGATAATAGTCAGTAACCTAATAAAGGAACGTTTGTTAAAATATCAA'"
      ]
     },
     "execution_count": 89,
     "metadata": {},
     "output_type": "execute_result"
    }
   ],
   "source": [
    "str(s2[1])"
   ]
  },
  {
   "cell_type": "code",
   "execution_count": 79,
   "id": "c72f75e9-967e-4df4-9473-626a19f108f6",
   "metadata": {
    "tags": []
   },
   "outputs": [
    {
     "data": {
      "text/plain": [
       "'GCACCCAGCACCCATCCTGGCTGCCGGTGCCCCGTACCCTGTATTTATTCTTTTAACAATAACAAAAGCCATTTATTTATTCCATCTAGAAAGGAAACCCTGTTTCAGTCCCCTCTCTCTGGCTGTTCTGT'"
      ]
     },
     "execution_count": 79,
     "metadata": {},
     "output_type": "execute_result"
    }
   ],
   "source": [
    "re.findall('M[^M]*?_', a)"
   ]
  },
  {
   "cell_type": "code",
   "execution_count": 134,
   "id": "37a1d02c-7ab5-4593-af91-15ce14591b2a",
   "metadata": {},
   "outputs": [],
   "source": [
    "df = pd.read_csv(r\"/home/vivak/human_demog_DFE/DFE_inference/GRCh37_exons_r_m.bed\", sep='\\t', header=0)\n",
    "df['inter_end'] = df.end + (df['pi50']*4)\n",
    "regions = list(df.region)\n",
    "chroms = list(df.chrom)\n",
    "starts = list(df.start)\n",
    "ends = list(df.end)\n",
    "inter_ends = list(df.inter_end)"
   ]
  },
  {
   "cell_type": "code",
   "execution_count": 135,
   "id": "3dd2ae49-8646-4e7e-a842-0634b3350bc6",
   "metadata": {
    "tags": []
   },
   "outputs": [
    {
     "data": {
      "text/plain": [
       "count    3.970000e+02\n",
       "mean     1.947462e-08\n",
       "std      3.151216e-09\n",
       "min      1.341703e-08\n",
       "25%      1.740947e-08\n",
       "50%      1.925783e-08\n",
       "75%      2.117738e-08\n",
       "max      4.075959e-08\n",
       "Name: m, dtype: float64"
      ]
     },
     "execution_count": 135,
     "metadata": {},
     "output_type": "execute_result"
    }
   ],
   "source": [
    "df.m.describe()"
   ]
  },
  {
   "cell_type": "code",
   "execution_count": 12,
   "id": "46a9baca-1a37-454d-9afe-a298d599f1c0",
   "metadata": {
    "tags": []
   },
   "outputs": [],
   "source": [
    "fails = []\n",
    "fails2 = []\n",
    "fails3 = []\n",
    "for i,j in enumerate(regions):\n",
    "    #Attempt to get fasta of exon\n",
    "    try:\n",
    "        server = \"https://rest.ensembl.org\"\n",
    "        ext = \"/sequence/region/human/\" + str(chroms[i]) + \":\" + str(starts[i]) + \"..\" + str(ends[i]-1) + \":-1?coord_system_version=GRCh37\"\n",
    "\n",
    "        r = requests.get(server+ext, headers={ \"Content-Type\" : \"text/plain\"})\n",
    "\n",
    "        if not r.ok:\n",
    "          r.raise_for_status()\n",
    "          sys.exit()\n",
    "\n",
    "\n",
    "        fasta = r.text\n",
    "        with open(r\"/home/vivak/human_demog_DFE/DFE_inference/fasta/region\"+ str(j) +\"_exon.fasta\", \"w\") as f:\n",
    "            f.write(\">\" + str(chroms[i]) + \"\\n\")\n",
    "            f.write(fasta)\n",
    "    except Exception:\n",
    "        fails.append([j, starts[i], ends[i]])\n",
    "        \n",
    "    #Attempt to get fasta of neighbouring intergenic region   \n",
    "    try:\n",
    "        server = \"https://rest.ensembl.org\"\n",
    "        ext = \"/sequence/region/human/\" + str(chroms[i]) + \":\" + str(ends[i]) + \"..\" + str(inter_ends[i]-1) + \":1?coord_system_version=GRCh37\"\n",
    "\n",
    "        r = requests.get(server+ext, headers={ \"Content-Type\" : \"text/plain\"})\n",
    "\n",
    "        if not r.ok:\n",
    "          r.raise_for_status()\n",
    "          sys.exit()\n",
    "\n",
    "\n",
    "        fasta = r.text\n",
    "        with open(r\"/home/vivak/human_demog_DFE/DFE_inference/fasta/region\"+ str(j) +\"_intergenic.fasta\", \"w\") as f:\n",
    "            f.write(\">\" + str(chroms[i]) + \"\\n\")\n",
    "            f.write(fasta)\n",
    "    except Exception:\n",
    "        fails2.append([j, ends[i], inter_ends[i]])\n",
    "        \n",
    "    #Attempt to get fasta of exon + neighbouring intergenic region    \n",
    "    try:\n",
    "        server = \"https://rest.ensembl.org\"\n",
    "        ext = \"/sequence/region/human/\" + str(chroms[i]) + \":\" + str(starts[i]) + \"..\" + str(inter_ends[i]-1) + \":1?coord_system_version=GRCh37\"\n",
    "\n",
    "        r = requests.get(server+ext, headers={ \"Content-Type\" : \"text/plain\"})\n",
    "\n",
    "        if not r.ok:\n",
    "          r.raise_for_status()\n",
    "          sys.exit()\n",
    "\n",
    "\n",
    "        fasta = r.text\n",
    "        with open(r\"/home/vivak/human_demog_DFE/DFE_inference/fasta/region\"+ str(j) +\"_exon_intergenic.fasta\", \"w\") as f:\n",
    "            f.write(\">\" + str(chroms[i]) + \"\\n\")\n",
    "            f.write(fasta)\n",
    "    except Exception:\n",
    "        fails3.append([j, starts[i], inter_ends[i]])"
   ]
  },
  {
   "cell_type": "code",
   "execution_count": 92,
   "id": "e044d5b6-ba6f-4510-9b47-8f3b61c8edd7",
   "metadata": {
    "tags": []
   },
   "outputs": [],
   "source": [
    "df = pd.read_csv(r\"/home/vivak/human_demog_DFE/DFE_inference/GRCh37_exons_r_m.bed\", sep='\\t', header=0)\n",
    "df['inter_end'] = df.end + (df['pi50']*4)\n",
    "regions = list(df.region)\n",
    "chroms = list(df.chrom)\n",
    "starts = list(df.start)\n",
    "ends = list(df.end)\n",
    "inter_ends = list(df.inter_end)"
   ]
  },
  {
   "cell_type": "code",
   "execution_count": 101,
   "id": "21b7d357-7f65-42a8-9f09-817381ce159a",
   "metadata": {
    "tags": []
   },
   "outputs": [],
   "source": [
    "hSap = []\n",
    "for i,j in enumerate(regions):\n",
    "    try:\n",
    "        server = \"https://rest.ensembl.org\"\n",
    "        ext = \"/overlap/region/human/\"+ str(chroms[i]) + \":\" + str(starts[i]) + \"..\" + str(ends[i]) + \"?coord_system_version=GRCh37;feature=gene;feature=exon\"\n",
    "\n",
    "        r = requests.get(server+ext, headers={ \"Content-Type\" : \"application/json\"})\n",
    "\n",
    "        if not r.ok:\n",
    "          r.raise_for_status()\n",
    "          sys.exit()\n",
    "\n",
    "        decoded = r.json()\n",
    "        lst = repr(decoded).split(',')\n",
    "        hSap.append([x for x in lst if \"gene_id\" in x][0].split(\": \")[1][1:-1])\n",
    "    except Exception:\n",
    "        hSap.append('NA')"
   ]
  },
  {
   "cell_type": "code",
   "execution_count": 115,
   "id": "56f47013-a880-4ce8-8633-164816575605",
   "metadata": {
    "tags": []
   },
   "outputs": [],
   "source": [
    "pTro = []\n",
    "for i,j in enumerate(hSap):\n",
    "    try:\n",
    "        server = \"https://rest.ensembl.org\"\n",
    "        ext = \"/homology/id/human/\"+j+\"?target_species=chimpanzee;type=orthologues;sequence=none\"\n",
    "\n",
    "        r = requests.get(server+ext, headers={ \"Content-Type\" : \"application/json\"})\n",
    "\n",
    "        if not r.ok:\n",
    "          r.raise_for_status()\n",
    "          sys.exit()\n",
    "\n",
    "        decoded = r.json()\n",
    "        lst = repr(decoded).split(',')\n",
    "        pTro.append([x for x in lst if \"ENSPTRG\" in x][0].split(\": \")[1][1:-1])\n",
    "    except Exception:\n",
    "        pTro.append('NA')"
   ]
  },
  {
   "cell_type": "code",
   "execution_count": 118,
   "id": "32db9d86-9803-43ad-b978-5e604d5cb892",
   "metadata": {
    "tags": []
   },
   "outputs": [],
   "source": [
    "rdf = pd.DataFrame([hSap, pTro]).T\n",
    "rdf.columns = ['hSap', 'pTro']\n",
    "rdf.to_csv(r\"/home/vivak/human_demog_DFE/DFE_inference/human_chimp_orthologs.txt\", sep='\\t', header=True, index=False)"
   ]
  },
  {
   "cell_type": "code",
   "execution_count": 151,
   "id": "ef544bd8-7eec-487c-abc7-22ef5f92367a",
   "metadata": {
    "tags": []
   },
   "outputs": [],
   "source": [
    "df = pd.read_csv(r\"/home/vivak/human_demog_DFE/DFE_inference/human_chimp_orthologs.txt\", sep='\\t', header=0)\n",
    "df['region'] = df.index+1\n",
    "df = df.dropna()\n",
    "regions = list(df.region)\n",
    "hSap = list(df.hSap)\n",
    "pTro = list(df.pTro)"
   ]
  },
  {
   "cell_type": "code",
   "execution_count": 163,
   "id": "6e664fbc-1860-44c9-980e-302a505b6f45",
   "metadata": {
    "tags": []
   },
   "outputs": [],
   "source": [
    "fails = []\n",
    "for i,j in enumerate(regions):\n",
    "    try:\n",
    "        server = \"https://rest.ensembl.org\"\n",
    "        ext = \"/sequence/id/\"+ hSap[i] + \"?coord_system_version=GRCh37\"\n",
    "\n",
    "        r = requests.get(server+ext, headers={ \"Content-Type\" : \"text/plain\"})\n",
    "\n",
    "        if not r.ok:\n",
    "          r.raise_for_status()\n",
    "          sys.exit()\n",
    "\n",
    "        hSap_seq = r.text\n",
    "\n",
    "        server = \"https://rest.ensembl.org\"\n",
    "        ext = \"/sequence/id/\"+ pTro[i] + \"?coord_system_version=Pan_tro_3.0\"\n",
    "\n",
    "        r = requests.get(server+ext, headers={ \"Content-Type\" : \"text/plain\"})\n",
    "\n",
    "        if not r.ok:\n",
    "          r.raise_for_status()\n",
    "          sys.exit()\n",
    "\n",
    "        pTro_seq = r.text\n",
    "\n",
    "        with open(r\"/home/vivak/human_demog_DFE/DFE_inference/human_chimp/region\"+ str(j) +\".fasta\", \"w\") as f:\n",
    "            f.write(\">hSap\\n\")\n",
    "            f.write(hSap_seq)\n",
    "            f.write(\"\\n\")\n",
    "            f.write(\">pTro\\n\")\n",
    "            f.write(pTro_seq)\n",
    "    except Exception:\n",
    "        fails3.append([j])"
   ]
  },
  {
   "cell_type": "code",
   "execution_count": 105,
   "id": "d09cc200-697d-44db-b1cb-c8626234065b",
   "metadata": {
    "tags": []
   },
   "outputs": [
    {
     "data": {
      "text/plain": [
       "'chr1:9908334..9910834'"
      ]
     },
     "execution_count": 105,
     "metadata": {},
     "output_type": "execute_result"
    }
   ],
   "source": [
    "i=1\n",
    "str(chroms[i]) + \":\" + str(starts[i]) + \"..\" + str(ends[i])"
   ]
  },
  {
   "cell_type": "code",
   "execution_count": 117,
   "id": "d774ad40-1389-4c86-8341-b46b34ef8f1a",
   "metadata": {
    "tags": []
   },
   "outputs": [],
   "source": [
    "i=0\n",
    "server = \"https://rest.ensembl.org\"\n",
    "ext = \"/overlap/region/human/\" + str(chroms[i]) + \":\" + str(starts[i]) + \"..\" + str(ends[i]) + \"?coord_system_version=GRCh37;feature=cds\"\n",
    " \n",
    "r = requests.get(server+ext, headers={ \"Content-Type\" : \"application/json\"})\n",
    " \n",
    "if not r.ok:\n",
    "  r.raise_for_status()\n",
    "  sys.exit()\n",
    " \n",
    "data = r.content\n",
    "data_dict = json.loads(data)\n",
    "decoded = r.json()\n",
    "lst = repr(decoded)"
   ]
  },
  {
   "cell_type": "code",
   "execution_count": 124,
   "id": "06600691-4735-449a-92f3-cf3c20625602",
   "metadata": {},
   "outputs": [
    {
     "name": "stdout",
     "output_type": "stream",
     "text": [
      "9415951 - 9416644\n",
      "9427507 - 9427634\n",
      "9415951 - 9416644\n",
      "9427507 - 9427634\n",
      "9415951 - 9416644\n",
      "9427507 - 9427634\n"
     ]
    }
   ],
   "source": [
    "for i in range(0, len(data_dict)):\n",
    "    print(str(data_dict[i]['start']) + ' - ' + str(data_dict[i]['end']))"
   ]
  },
  {
   "cell_type": "code",
   "execution_count": 126,
   "id": "1cffc903-7b43-4dcd-970d-dd9dddbf7e05",
   "metadata": {
    "tags": []
   },
   "outputs": [
    {
     "data": {
      "text/plain": [
       "'chr1:9427507..9429591'"
      ]
     },
     "execution_count": 126,
     "metadata": {},
     "output_type": "execute_result"
    }
   ],
   "source": [
    "i=0\n",
    "str(chroms[i]) + \":\" + str(starts[i]) + \"..\" + str(ends[i])"
   ]
  },
  {
   "cell_type": "code",
   "execution_count": 130,
   "id": "f8ae4284-ba1f-44cb-95a5-9262e67e5692",
   "metadata": {
    "tags": []
   },
   "outputs": [
    {
     "name": "stdout",
     "output_type": "stream",
     "text": [
      "CAGCCGAGCCGCTGCCGCTCATGGATTTGTGCCGTCGCTCGGTGCGCCTGGCCCTGGGGAGGGAGCGCCTGGGGGAGATCCACACGCTGCCGCTGCCGGCTTCCCTCAAGGCCTACCTCCTCTACCAGTGA\n"
     ]
    }
   ],
   "source": [
    "server = \"https://rest.ensembl.org\"\n",
    "ext = \"/sequence/region/human/\" + str(1) + \":\" + str(9427504) + \"..\" + str(9427634) + \":1?coord_system_version=GRCh37\"\n",
    "\n",
    "r = requests.get(server+ext, headers={ \"Content-Type\" : \"text/plain\"})\n",
    "\n",
    "if not r.ok:\n",
    "  r.raise_for_status()\n",
    "  sys.exit()\n",
    "fasta = r.text\n",
    "print(fasta)"
   ]
  },
  {
   "cell_type": "code",
   "execution_count": 132,
   "id": "795fcb0e-d343-47b0-8bde-b853ee6708de",
   "metadata": {
    "tags": []
   },
   "outputs": [
    {
     "name": "stdout",
     "output_type": "stream",
     "text": [
      "ATGGGTCAGAAGGTCACTGGAGGGATCAAGACTGTGGACATGAGGGACCCCACGTACAGGCCCCTGAAGCAGGAGCTCCAGGGTCTGGATTACTGCAAGCCCACCCGGCTGGATCTGCTACTGGACATGCCCCCTGTGTCCTATGATGTCCAGCTGCTGCATTCATGGAACAACAACGACCGATCGCTCAATGTCTTTGTGAAGGAGGACGACAAGCTCATCTTTCACCGGCATCCGGTGGCCCAGAGCACGGACGCTATCAGGGGCAAAGTCGGGTATACCCGTGGGCTGCACGTGTGGCAGATCACGTGGGCCATGAGACAGCGGGGCACACACGCCGTGGTGGGGGTGGCGACGGCAGACGCCCCCCTGCACTCTGTCGGGTACACAACCCTCGTGGGGAATAACCACGAGTCCTGGGGCTGGGACTTGGGGCGCAACCGGCTCTACCACGATGGCAAGAACCAGCCAAGCAAAACATACCCAGCCTTTCTGGAACCAGATGAGACATTCATTGTCCCTGACTCCTTCCTGGTAGCCCTGGACATGGACGACGGGACTCTGAGCTTCATTGTGGATGGACAGTACATGGGAGTGGCTTTTCGGGGACTCAAGGGCAAAAAACTGTATCCTGTAGTGAGTGCCGTCTGGGGCCACTGTGAGATCCGAATGCGCTACTTGAACGGACTCGATC\n"
     ]
    }
   ],
   "source": [
    "server = \"https://rest.ensembl.org\"\n",
    "ext = \"/sequence/region/human/\" + str(1) + \":\" + str(9415951) + \"..\" + str(9416644) + \":1?coord_system_version=GRCh37\"\n",
    "\n",
    "r = requests.get(server+ext, headers={ \"Content-Type\" : \"text/plain\"})\n",
    "\n",
    "if not r.ok:\n",
    "  r.raise_for_status()\n",
    "  sys.exit()\n",
    "fasta = r.text\n",
    "print(fasta)"
   ]
  },
  {
   "cell_type": "code",
   "execution_count": 133,
   "id": "857b4d6e-57df-4943-a87a-ab8ba9ea23cf",
   "metadata": {
    "tags": []
   },
   "outputs": [
    {
     "data": {
      "text/plain": [
       "[{'Parent': 'ENST00000328089',\n",
       "  'start': 9415951,\n",
       "  'strand': 1,\n",
       "  'feature_type': 'cds',\n",
       "  'seq_region_name': '1',\n",
       "  'protein_id': 'ENSP00000330221',\n",
       "  'phase': 0,\n",
       "  'assembly_name': 'GRCh37',\n",
       "  'source': 'ensembl_havana',\n",
       "  'end': 9416644,\n",
       "  'id': 'ENSP00000330221'},\n",
       " {'phase': '2',\n",
       "  'assembly_name': 'GRCh37',\n",
       "  'source': 'ensembl_havana',\n",
       "  'end': 9427634,\n",
       "  'id': 'ENSP00000330221',\n",
       "  'Parent': 'ENST00000328089',\n",
       "  'start': 9427507,\n",
       "  'strand': 1,\n",
       "  'protein_id': 'ENSP00000330221',\n",
       "  'seq_region_name': '1',\n",
       "  'feature_type': 'cds'},\n",
       " {'phase': 0,\n",
       "  'source': 'havana',\n",
       "  'assembly_name': 'GRCh37',\n",
       "  'end': 9416644,\n",
       "  'id': 'ENSP00000350573',\n",
       "  'Parent': 'ENST00000357898',\n",
       "  'start': 9415951,\n",
       "  'strand': 1,\n",
       "  'feature_type': 'cds',\n",
       "  'seq_region_name': '1',\n",
       "  'protein_id': 'ENSP00000350573'},\n",
       " {'feature_type': 'cds',\n",
       "  'seq_region_name': '1',\n",
       "  'protein_id': 'ENSP00000350573',\n",
       "  'strand': 1,\n",
       "  'start': 9427507,\n",
       "  'Parent': 'ENST00000357898',\n",
       "  'id': 'ENSP00000350573',\n",
       "  'end': 9427634,\n",
       "  'assembly_name': 'GRCh37',\n",
       "  'source': 'havana',\n",
       "  'phase': '2'},\n",
       " {'strand': 1,\n",
       "  'start': 9415951,\n",
       "  'feature_type': 'cds',\n",
       "  'seq_region_name': '1',\n",
       "  'protein_id': 'ENSP00000366616',\n",
       "  'Parent': 'ENST00000377399',\n",
       "  'end': 9416644,\n",
       "  'id': 'ENSP00000366616',\n",
       "  'phase': 0,\n",
       "  'assembly_name': 'GRCh37',\n",
       "  'source': 'havana'},\n",
       " {'phase': '2',\n",
       "  'assembly_name': 'GRCh37',\n",
       "  'source': 'havana',\n",
       "  'end': 9427634,\n",
       "  'id': 'ENSP00000366616',\n",
       "  'Parent': 'ENST00000377399',\n",
       "  'strand': 1,\n",
       "  'start': 9427507,\n",
       "  'feature_type': 'cds',\n",
       "  'seq_region_name': '1',\n",
       "  'protein_id': 'ENSP00000366616'}]"
      ]
     },
     "execution_count": 133,
     "metadata": {},
     "output_type": "execute_result"
    }
   ],
   "source": [
    "data_dict"
   ]
  },
  {
   "cell_type": "code",
   "execution_count": null,
   "id": "a044d7f8-9306-4c2c-ae7b-2f6be046e757",
   "metadata": {},
   "outputs": [],
   "source": []
  }
 ],
 "metadata": {
  "kernelspec": {
   "display_name": "Python 3 (ipykernel)",
   "language": "python",
   "name": "python3"
  },
  "language_info": {
   "codemirror_mode": {
    "name": "ipython",
    "version": 3
   },
   "file_extension": ".py",
   "mimetype": "text/x-python",
   "name": "python",
   "nbconvert_exporter": "python",
   "pygments_lexer": "ipython3",
   "version": "3.11.5"
  }
 },
 "nbformat": 4,
 "nbformat_minor": 5
}
